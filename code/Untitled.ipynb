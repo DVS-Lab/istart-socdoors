{
 "cells": [
  {
   "cell_type": "code",
   "execution_count": 1,
   "id": "d25aca50",
   "metadata": {},
   "outputs": [],
   "source": [
    "# Import libraries\n",
    "import os\n",
    "import re\n",
    "import pandas as pd\n",
    "import numpy as np\n",
    "import seaborn as sms\n",
    "from datetime import datetime, date, time\n",
    "from natsort import natsorted\n",
    "from scipy.io import loadmat  # this is the SciPy module that loads mat-files\n",
    "import matplotlib.pyplot as plt\n",
    "plt.rcParams['svg.fonttype'] = 'none'"
   ]
  },
  {
   "cell_type": "code",
   "execution_count": 3,
   "id": "8d8b9a48",
   "metadata": {},
   "outputs": [],
   "source": [
    "# Read in usable subs\n",
    "file=open(\"newsubs.txt\",\"r\")\n",
    "subs=file.read()\n",
    "#print(subs)\n",
    "file.close()"
   ]
  },
  {
   "cell_type": "code",
   "execution_count": 36,
   "id": "7c26bc64",
   "metadata": {},
   "outputs": [],
   "source": [
    "# Read in usable subs\n",
    "df=pd.DataFrame(data=open(\"newsubs.txt\",\"r\"),columns=['subs'])\n",
    "df[\"socialRT\"]=np.nan\n",
    "df[\"monetaryRT\"]=np.nan\n",
    "for i in range(len(df)):\n",
    "    df.loc[i,\"subs\"]=df.loc[i,\"subs\"].rstrip(\"\\n\")\n",
    "    \n",
    "    social_df=pd.read_csv('../../istart/social_reward_c/data/'+df.loc[i,\"subs\"]+'/sub-'+df.loc[i,\"subs\"]+'_task-socialdoors_run-1_events.tsv', sep=\"\\t\")\n",
    "    df.loc[i,\"socialRT\"]=np.nanmean(social_df[\"rt\"])\n",
    "    \n",
    "    doors_df=pd.read_csv('../../istart/social_reward_c/data/'+df.loc[i,\"subs\"]+'/sub-'+df.loc[i,\"subs\"]+'_task-doors_run-1_events.tsv', sep=\"\\t\")\n",
    "    df.loc[i,\"monetaryRT\"]=np.nanmean(doors_df[\"rt\"])\n",
    "df.head()\n",
    "df.to_csv('RTs.csv',index=False)"
   ]
  },
  {
   "cell_type": "code",
   "execution_count": 9,
   "id": "1cef95cd",
   "metadata": {},
   "outputs": [
    {
     "data": {
      "text/html": [
       "<div>\n",
       "<style scoped>\n",
       "    .dataframe tbody tr th:only-of-type {\n",
       "        vertical-align: middle;\n",
       "    }\n",
       "\n",
       "    .dataframe tbody tr th {\n",
       "        vertical-align: top;\n",
       "    }\n",
       "\n",
       "    .dataframe thead th {\n",
       "        text-align: right;\n",
       "    }\n",
       "</style>\n",
       "<table border=\"1\" class=\"dataframe\">\n",
       "  <thead>\n",
       "    <tr style=\"text-align: right;\">\n",
       "      <th></th>\n",
       "      <th>subs</th>\n",
       "      <th>socialRT</th>\n",
       "      <th>monetaryRT</th>\n",
       "    </tr>\n",
       "  </thead>\n",
       "  <tbody>\n",
       "    <tr>\n",
       "      <th>6</th>\n",
       "      <td>1012</td>\n",
       "      <td>1.637644</td>\n",
       "      <td>1.998317</td>\n",
       "    </tr>\n",
       "    <tr>\n",
       "      <th>10</th>\n",
       "      <td>1019</td>\n",
       "      <td>1.509710</td>\n",
       "      <td>1.197850</td>\n",
       "    </tr>\n",
       "    <tr>\n",
       "      <th>16</th>\n",
       "      <td>1247</td>\n",
       "      <td>1.857172</td>\n",
       "      <td>1.693141</td>\n",
       "    </tr>\n",
       "    <tr>\n",
       "      <th>19</th>\n",
       "      <td>1251</td>\n",
       "      <td>1.805064</td>\n",
       "      <td>1.782938</td>\n",
       "    </tr>\n",
       "    <tr>\n",
       "      <th>26</th>\n",
       "      <td>1303</td>\n",
       "      <td>1.918329</td>\n",
       "      <td>1.895477</td>\n",
       "    </tr>\n",
       "  </tbody>\n",
       "</table>\n",
       "</div>"
      ],
      "text/plain": [
       "    subs  socialRT  monetaryRT\n",
       "6   1012  1.637644    1.998317\n",
       "10  1019  1.509710    1.197850\n",
       "16  1247  1.857172    1.693141\n",
       "19  1251  1.805064    1.782938\n",
       "26  1303  1.918329    1.895477"
      ]
     },
     "metadata": {},
     "output_type": "display_data"
    }
   ],
   "source": [
    "# Separate deceived and non-deceived subs\n",
    "nondeceived=[\"1012\",\"1019\",\"1247\",\"1251\",\"1303\",\"3116\",\"3143\",\"3176\"]\n",
    "\n",
    "nondec_df=df[df[\"subs\"].isin(nondeceived)]\n",
    "dec_df=df[~df[\"subs\"].isin(nondeceived)]\n",
    "\n",
    "display(nondec_df.head())\n",
    "#dec_df.head()"
   ]
  },
  {
   "cell_type": "code",
   "execution_count": 35,
   "id": "17eaa087",
   "metadata": {},
   "outputs": [
    {
     "data": {
      "image/png": "[encoded data removed]",
      "text/plain": [
       "<Figure size 640x480 with 1 Axes>"
      ]
     },
     "metadata": {},
     "output_type": "display_data"
    }
   ],
   "source": [
    "# Organize data\n",
    "bar_df=pd.DataFrame(columns=['condition','RT','error'])\n",
    "bar_df.loc[0,'condition']=\"Social \\nDeceived\"\n",
    "bar_df.loc[1,'condition']=\"Social \\nNon-deceived\"\n",
    "bar_df.loc[2,'condition']=\"Monetary \\nDeceived\"\n",
    "bar_df.loc[3,'condition']=\"Monetary \\nNon-deceived\"\n",
    "bar_df.loc[0,'RT']=np.nanmean(dec_df[\"socialRT\"])\n",
    "bar_df.loc[1,'RT']=np.nanmean(nondec_df[\"socialRT\"])\n",
    "bar_df.loc[2,'RT']=np.nanmean(dec_df[\"monetaryRT\"])\n",
    "bar_df.loc[3,'RT']=np.nanmean(nondec_df[\"monetaryRT\"])\n",
    "bar_df.loc[0,'error']=np.std(dec_df[\"socialRT\"])/np.sqrt(len(dec_df[\"socialRT\"]))\n",
    "bar_df.loc[1,'error']=np.std(nondec_df[\"socialRT\"])/np.sqrt(len(nondec_df[\"socialRT\"]))\n",
    "bar_df.loc[2,'error']=np.std(dec_df[\"monetaryRT\"])/np.sqrt(len(dec_df[\"monetaryRT\"]))\n",
    "bar_df.loc[3,'error']=np.std(nondec_df[\"monetaryRT\"])/np.sqrt(len(nondec_df[\"monetaryRT\"]))\n",
    "\n",
    "#bar_df.head()\n",
    "\n",
    "# suppress warning output\n",
    "import warnings\n",
    "warnings.simplefilter(action='ignore', category=FutureWarning)\n",
    "\n",
    "# plot RTs\n",
    "plt.figure()\n",
    "g=sms.barplot(x='condition',y='RT',data=bar_df)\n",
    "x_coords = [p.get_x() + 0.5*p.get_width() for p in g.patches]\n",
    "y_coords = [p.get_height() for p in g.patches]\n",
    "plt.errorbar(x=x_coords, y=y_coords, yerr=bar_df['error'],fmt='none',c='k')\n",
    "g.set_title(\"ISTART SocialDoors Reaction Times\")\n",
    "plt.show()"
   ]
  },
  {
   "cell_type": "code",
   "execution_count": 44,
   "id": "bc432d9f",
   "metadata": {},
   "outputs": [
    {
     "name": "stdout",
     "output_type": "stream",
     "text": [
      "                        df    sum_sq   mean_sq         F    PR(>F)\n",
      "C(task)                1.0  0.603756  0.603756  6.414899  0.013176\n",
      "C(deception)           1.0  0.014571  0.014571  0.154817  0.694971\n",
      "C(task):C(deception)   1.0  0.019560  0.019560  0.207828  0.649652\n",
      "Residual              84.0  7.905891  0.094118       NaN       NaN\n"
     ]
    }
   ],
   "source": [
    "# Run 2x2 ANOVA\n",
    "import statsmodels.api as sm \n",
    "from statsmodels.formula.api import ols \n",
    "\n",
    "anova_df=pd.read_excel(\"RTs_anova.xlsx\")\n",
    "model = ols('RT ~ C(task) + C(deception) + C(task):C(deception)', data=anova_df).fit()\n",
    "result=sm.stats.anova_lm(model,type=2)\n",
    "print(result)"
   ]
  },
  {
   "cell_type": "code",
   "execution_count": null,
   "id": "cdef2764",
   "metadata": {},
   "outputs": [],
   "source": []
  }
 ],
 "metadata": {
  "kernelspec": {
   "display_name": "Python 3 (ipykernel)",
   "language": "python",
   "name": "python3"
  },
  "language_info": {
   "codemirror_mode": {
    "name": "ipython",
    "version": 3
   },
   "file_extension": ".py",
   "mimetype": "text/x-python",
   "name": "python",
   "nbconvert_exporter": "python",
   "pygments_lexer": "ipython3",
   "version": "3.11.3"
  }
 },
 "nbformat": 4,
 "nbformat_minor": 5
}
