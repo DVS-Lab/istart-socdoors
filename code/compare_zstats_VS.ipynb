{
 "cells": [
  {
   "cell_type": "code",
   "execution_count": 16,
   "id": "594d16a2-d095-4149-8c7b-d81dc65dad25",
   "metadata": {},
   "outputs": [],
   "source": [
    "# Import libraries\n",
    "import os\n",
    "import re\n",
    "import pandas as pd\n",
    "import numpy as np\n",
    "import seaborn as sms\n",
    "from datetime import datetime, date, time\n",
    "from natsort import natsorted\n",
    "from scipy.io import loadmat  # this is the SciPy module that loads mat-files\n",
    "import matplotlib.pyplot as plt\n",
    "plt.rcParams['svg.fonttype'] = 'none'"
   ]
  },
  {
   "cell_type": "code",
   "execution_count": 17,
   "id": "a8b7b5d7-05ef-48a1-94fa-5d4fe7a0aa37",
   "metadata": {},
   "outputs": [
    {
     "name": "stdout",
     "output_type": "stream",
     "text": [
      "The number of files are: 88\n"
     ]
    }
   ],
   "source": [
    "# Make a list of the files\n",
    "zstats_dir='../zstats'\n",
    "zstats_files_list=natsorted([os.path.join(root,f) for root,dirs,files in os.walk(\n",
    "    zstats_dir) for f in files if 'run' in f])\n",
    "#print(\"The number of Subjects are: %s\"%(len([x for x in os.listdir(zstats_dir) if x.startswith('sub')])))\n",
    "print(\"The number of files are: %s\"%(len(zstats_files_list)))"
   ]
  },
  {
   "cell_type": "code",
   "execution_count": 48,
   "id": "fe0b8401-dd66-44f3-877c-653d73c95b8b",
   "metadata": {},
   "outputs": [],
   "source": [
    "# Read data\n",
    "df=pd.DataFrame(columns=['sub','task','zstat'])\n",
    "i=1\n",
    "for zstats_file in zstats_files_list:\n",
    "    sub='sub-'+re.search('sub-(.*)_task',zstats_file).group(1)\n",
    "    task=re.search('task-(.*)_run',zstats_file).group(1)\n",
    "    file=open(zstats_file,\"r\")\n",
    "    content=file.read()\n",
    "    #print(zstats_file)\n",
    "    #print(content)\n",
    "    file.close\n",
    "    df.loc[i,['sub']]=sub\n",
    "    df.loc[i,['task']]=task\n",
    "    df.loc[i,['zstat']]=content.rstrip()\n",
    "    i=i+1\n",
    "#[int(x.strip()) for x in df['zstat']]\n",
    "df\n",
    "df.to_csv('zstat-data.csv',index=False)"
   ]
  },
  {
   "cell_type": "code",
   "execution_count": 41,
   "id": "6b16ef7f-0fc2-4387-bc96-b5b3882b8ea6",
   "metadata": {},
   "outputs": [
    {
     "data": {
      "text/plain": [
       "1       0.6860285579  \\n\n",
       "3        1.382438022  \\n\n",
       "5       0.8653579793  \\n\n",
       "7      -0.2293898255  \\n\n",
       "9        1.124269653  \\n\n",
       "11      0.7946802064  \\n\n",
       "13       1.637446178  \\n\n",
       "15       1.778277032  \\n\n",
       "17      0.4607461342  \\n\n",
       "19       1.362076527  \\n\n",
       "21       0.523882827  \\n\n",
       "23      0.5341361912  \\n\n",
       "25       1.995992403  \\n\n",
       "27        1.14306147  \\n\n",
       "29      0.9264723659  \\n\n",
       "31        1.87150466  \\n\n",
       "33       1.305042876  \\n\n",
       "35       1.140149978  \\n\n",
       "37       1.039955377  \\n\n",
       "39       1.903378129  \\n\n",
       "41      0.5971143069  \\n\n",
       "43    -0.06506913811  \\n\n",
       "45       1.402061015  \\n\n",
       "47      0.9655164037  \\n\n",
       "49     -0.6425409113  \\n\n",
       "51      0.3079074658  \\n\n",
       "53       1.189056585  \\n\n",
       "55       1.007603533  \\n\n",
       "57      0.6451855695  \\n\n",
       "59       1.738777066  \\n\n",
       "61      0.5894607043  \\n\n",
       "63       1.788352485  \\n\n",
       "65       1.338574452  \\n\n",
       "67       1.482363849  \\n\n",
       "69       0.684365354  \\n\n",
       "71      0.6047607022  \\n\n",
       "73       1.286344168  \\n\n",
       "75      0.9348998696  \\n\n",
       "77      0.7465946204  \\n\n",
       "79       1.274771226  \\n\n",
       "81       0.583607955  \\n\n",
       "83      0.5067330629  \\n\n",
       "85     0.04763235681  \\n\n",
       "87       1.457315196  \\n\n",
       "Name: zstat, dtype: object"
      ]
     },
     "execution_count": 41,
     "metadata": {},
     "output_type": "execute_result"
    }
   ],
   "source": [
    "df_social=df[df['task']==\"socialdoors\"]\n",
    "df_doors=df[df['task']==\"doors\"]\n",
    "\n",
    "df_doors['zstat']\n",
    "\n",
    "#df_out=pd.DataFrame(columns=['sub','socialdoors','doors','diff'])\n",
    "#df_out['sub']=df_social['sub']\n",
    "#df_out['socialdoors']=df_social['zstat']\n",
    "#df_out['doors']=df_doors['zstat']\n",
    "#df_out['diff']=df_out['socialdoors']-df_out['doors']\n",
    "#df_out"
   ]
  },
  {
   "cell_type": "code",
   "execution_count": null,
   "id": "2aab13a6-f6f6-438d-ac3a-ef083265cc44",
   "metadata": {},
   "outputs": [],
   "source": []
  }
 ],
 "metadata": {
  "kernelspec": {
   "display_name": "Python 3 (ipykernel)",
   "language": "python",
   "name": "python3"
  },
  "language_info": {
   "codemirror_mode": {
    "name": "ipython",
    "version": 3
   },
   "file_extension": ".py",
   "mimetype": "text/x-python",
   "name": "python",
   "nbconvert_exporter": "python",
   "pygments_lexer": "ipython3",
   "version": "3.11.4"
  }
 },
 "nbformat": 4,
 "nbformat_minor": 5
}
